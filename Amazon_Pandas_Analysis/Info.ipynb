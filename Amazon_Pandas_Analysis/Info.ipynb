{
 "cells": [
  {
   "cell_type": "code",
   "execution_count": 4,
   "metadata": {},
   "outputs": [],
   "source": [
    "import pandas as pd\n",
    "import numpy as np\n",
    "import os"
   ]
  },
  {
   "cell_type": "code",
   "execution_count": 6,
   "metadata": {},
   "outputs": [],
   "source": [
    "def convert_excel_to_csv(folder_path, output_csv_path):\n",
    "    dfs = []\n",
    "\n",
    "    for filename in os.listdir(folder_path):\n",
    "        if filename.endswith('.csv'):\n",
    "            file_path = os.path.join(folder_path, filename)\n",
    "            df = pd.read_csv(file_path)\n",
    "            dfs.append(df)\n",
    "    \n",
    "    combined_df = pd.concat(dfs, ignore_index=True)\n",
    "\n",
    "    combined_df.to_csv(output_csv_path, index=False)\n",
    "\n",
    "folder_path = 'Data'\n",
    "output_csv_path = 'output.csv'\n",
    "\n",
    "convert_excel_to_csv(folder_path, output_csv_path)\n"
   ]
  },
  {
   "cell_type": "code",
   "execution_count": 63,
   "metadata": {},
   "outputs": [],
   "source": [
    "df = pd.read_csv('output.csv')"
   ]
  },
  {
   "cell_type": "code",
   "execution_count": 64,
   "metadata": {},
   "outputs": [
    {
     "data": {
      "text/html": [
       "<div>\n",
       "<style scoped>\n",
       "    .dataframe tbody tr th:only-of-type {\n",
       "        vertical-align: middle;\n",
       "    }\n",
       "\n",
       "    .dataframe tbody tr th {\n",
       "        vertical-align: top;\n",
       "    }\n",
       "\n",
       "    .dataframe thead th {\n",
       "        text-align: right;\n",
       "    }\n",
       "</style>\n",
       "<table border=\"1\" class=\"dataframe\">\n",
       "  <thead>\n",
       "    <tr style=\"text-align: right;\">\n",
       "      <th></th>\n",
       "      <th>name</th>\n",
       "      <th>main_category</th>\n",
       "      <th>sub_category</th>\n",
       "      <th>image</th>\n",
       "      <th>link</th>\n",
       "      <th>ratings</th>\n",
       "      <th>no_of_ratings</th>\n",
       "      <th>discount_price</th>\n",
       "      <th>actual_price</th>\n",
       "      <th>Unnamed: 0</th>\n",
       "    </tr>\n",
       "  </thead>\n",
       "  <tbody>\n",
       "    <tr>\n",
       "      <th>0</th>\n",
       "      <td>Lloyd 1.5 Ton 3 Star Inverter Split Ac (5 In 1...</td>\n",
       "      <td>appliances</td>\n",
       "      <td>Air Conditioners</td>\n",
       "      <td>https://m.media-amazon.com/images/I/31UISB90sY...</td>\n",
       "      <td>https://www.amazon.in/Lloyd-Inverter-Convertib...</td>\n",
       "      <td>4.2</td>\n",
       "      <td>2,255</td>\n",
       "      <td>₹32,999</td>\n",
       "      <td>₹58,990</td>\n",
       "      <td>NaN</td>\n",
       "    </tr>\n",
       "    <tr>\n",
       "      <th>1</th>\n",
       "      <td>LG 1.5 Ton 5 Star AI DUAL Inverter Split AC (C...</td>\n",
       "      <td>appliances</td>\n",
       "      <td>Air Conditioners</td>\n",
       "      <td>https://m.media-amazon.com/images/I/51JFb7FctD...</td>\n",
       "      <td>https://www.amazon.in/LG-Convertible-Anti-Viru...</td>\n",
       "      <td>4.2</td>\n",
       "      <td>2,948</td>\n",
       "      <td>₹46,490</td>\n",
       "      <td>₹75,990</td>\n",
       "      <td>NaN</td>\n",
       "    </tr>\n",
       "    <tr>\n",
       "      <th>2</th>\n",
       "      <td>LG 1 Ton 4 Star Ai Dual Inverter Split Ac (Cop...</td>\n",
       "      <td>appliances</td>\n",
       "      <td>Air Conditioners</td>\n",
       "      <td>https://m.media-amazon.com/images/I/51JFb7FctD...</td>\n",
       "      <td>https://www.amazon.in/LG-Inverter-Convertible-...</td>\n",
       "      <td>4.2</td>\n",
       "      <td>1,206</td>\n",
       "      <td>₹34,490</td>\n",
       "      <td>₹61,990</td>\n",
       "      <td>NaN</td>\n",
       "    </tr>\n",
       "    <tr>\n",
       "      <th>3</th>\n",
       "      <td>LG 1.5 Ton 3 Star AI DUAL Inverter Split AC (C...</td>\n",
       "      <td>appliances</td>\n",
       "      <td>Air Conditioners</td>\n",
       "      <td>https://m.media-amazon.com/images/I/51JFb7FctD...</td>\n",
       "      <td>https://www.amazon.in/LG-Convertible-Anti-Viru...</td>\n",
       "      <td>4.0</td>\n",
       "      <td>69</td>\n",
       "      <td>₹37,990</td>\n",
       "      <td>₹68,990</td>\n",
       "      <td>NaN</td>\n",
       "    </tr>\n",
       "    <tr>\n",
       "      <th>4</th>\n",
       "      <td>Carrier 1.5 Ton 3 Star Inverter Split AC (Copp...</td>\n",
       "      <td>appliances</td>\n",
       "      <td>Air Conditioners</td>\n",
       "      <td>https://m.media-amazon.com/images/I/41lrtqXPiW...</td>\n",
       "      <td>https://www.amazon.in/Carrier-Inverter-Split-C...</td>\n",
       "      <td>4.1</td>\n",
       "      <td>630</td>\n",
       "      <td>₹34,490</td>\n",
       "      <td>₹67,790</td>\n",
       "      <td>NaN</td>\n",
       "    </tr>\n",
       "  </tbody>\n",
       "</table>\n",
       "</div>"
      ],
      "text/plain": [
       "                                                name main_category  \\\n",
       "0  Lloyd 1.5 Ton 3 Star Inverter Split Ac (5 In 1...    appliances   \n",
       "1  LG 1.5 Ton 5 Star AI DUAL Inverter Split AC (C...    appliances   \n",
       "2  LG 1 Ton 4 Star Ai Dual Inverter Split Ac (Cop...    appliances   \n",
       "3  LG 1.5 Ton 3 Star AI DUAL Inverter Split AC (C...    appliances   \n",
       "4  Carrier 1.5 Ton 3 Star Inverter Split AC (Copp...    appliances   \n",
       "\n",
       "       sub_category                                              image  \\\n",
       "0  Air Conditioners  https://m.media-amazon.com/images/I/31UISB90sY...   \n",
       "1  Air Conditioners  https://m.media-amazon.com/images/I/51JFb7FctD...   \n",
       "2  Air Conditioners  https://m.media-amazon.com/images/I/51JFb7FctD...   \n",
       "3  Air Conditioners  https://m.media-amazon.com/images/I/51JFb7FctD...   \n",
       "4  Air Conditioners  https://m.media-amazon.com/images/I/41lrtqXPiW...   \n",
       "\n",
       "                                                link ratings no_of_ratings  \\\n",
       "0  https://www.amazon.in/Lloyd-Inverter-Convertib...     4.2         2,255   \n",
       "1  https://www.amazon.in/LG-Convertible-Anti-Viru...     4.2         2,948   \n",
       "2  https://www.amazon.in/LG-Inverter-Convertible-...     4.2         1,206   \n",
       "3  https://www.amazon.in/LG-Convertible-Anti-Viru...     4.0            69   \n",
       "4  https://www.amazon.in/Carrier-Inverter-Split-C...     4.1           630   \n",
       "\n",
       "  discount_price actual_price  Unnamed: 0  \n",
       "0        ₹32,999      ₹58,990         NaN  \n",
       "1        ₹46,490      ₹75,990         NaN  \n",
       "2        ₹34,490      ₹61,990         NaN  \n",
       "3        ₹37,990      ₹68,990         NaN  \n",
       "4        ₹34,490      ₹67,790         NaN  "
      ]
     },
     "execution_count": 64,
     "metadata": {},
     "output_type": "execute_result"
    }
   ],
   "source": [
    "df.head()"
   ]
  },
  {
   "cell_type": "markdown",
   "metadata": {},
   "source": [
    "#### Droping 'image' and 'link' columns, because they may not be able to help us in analysis"
   ]
  },
  {
   "cell_type": "code",
   "execution_count": 65,
   "metadata": {},
   "outputs": [],
   "source": [
    "df.drop(columns=['image', 'link'], inplace=True)"
   ]
  },
  {
   "cell_type": "code",
   "execution_count": 66,
   "metadata": {},
   "outputs": [
    {
     "data": {
      "text/html": [
       "<div>\n",
       "<style scoped>\n",
       "    .dataframe tbody tr th:only-of-type {\n",
       "        vertical-align: middle;\n",
       "    }\n",
       "\n",
       "    .dataframe tbody tr th {\n",
       "        vertical-align: top;\n",
       "    }\n",
       "\n",
       "    .dataframe thead th {\n",
       "        text-align: right;\n",
       "    }\n",
       "</style>\n",
       "<table border=\"1\" class=\"dataframe\">\n",
       "  <thead>\n",
       "    <tr style=\"text-align: right;\">\n",
       "      <th></th>\n",
       "      <th>name</th>\n",
       "      <th>main_category</th>\n",
       "      <th>sub_category</th>\n",
       "      <th>ratings</th>\n",
       "      <th>no_of_ratings</th>\n",
       "      <th>discount_price</th>\n",
       "      <th>actual_price</th>\n",
       "      <th>Unnamed: 0</th>\n",
       "    </tr>\n",
       "  </thead>\n",
       "  <tbody>\n",
       "    <tr>\n",
       "      <th>0</th>\n",
       "      <td>Lloyd 1.5 Ton 3 Star Inverter Split Ac (5 In 1...</td>\n",
       "      <td>appliances</td>\n",
       "      <td>Air Conditioners</td>\n",
       "      <td>4.2</td>\n",
       "      <td>2,255</td>\n",
       "      <td>₹32,999</td>\n",
       "      <td>₹58,990</td>\n",
       "      <td>NaN</td>\n",
       "    </tr>\n",
       "    <tr>\n",
       "      <th>1</th>\n",
       "      <td>LG 1.5 Ton 5 Star AI DUAL Inverter Split AC (C...</td>\n",
       "      <td>appliances</td>\n",
       "      <td>Air Conditioners</td>\n",
       "      <td>4.2</td>\n",
       "      <td>2,948</td>\n",
       "      <td>₹46,490</td>\n",
       "      <td>₹75,990</td>\n",
       "      <td>NaN</td>\n",
       "    </tr>\n",
       "    <tr>\n",
       "      <th>2</th>\n",
       "      <td>LG 1 Ton 4 Star Ai Dual Inverter Split Ac (Cop...</td>\n",
       "      <td>appliances</td>\n",
       "      <td>Air Conditioners</td>\n",
       "      <td>4.2</td>\n",
       "      <td>1,206</td>\n",
       "      <td>₹34,490</td>\n",
       "      <td>₹61,990</td>\n",
       "      <td>NaN</td>\n",
       "    </tr>\n",
       "    <tr>\n",
       "      <th>3</th>\n",
       "      <td>LG 1.5 Ton 3 Star AI DUAL Inverter Split AC (C...</td>\n",
       "      <td>appliances</td>\n",
       "      <td>Air Conditioners</td>\n",
       "      <td>4.0</td>\n",
       "      <td>69</td>\n",
       "      <td>₹37,990</td>\n",
       "      <td>₹68,990</td>\n",
       "      <td>NaN</td>\n",
       "    </tr>\n",
       "    <tr>\n",
       "      <th>4</th>\n",
       "      <td>Carrier 1.5 Ton 3 Star Inverter Split AC (Copp...</td>\n",
       "      <td>appliances</td>\n",
       "      <td>Air Conditioners</td>\n",
       "      <td>4.1</td>\n",
       "      <td>630</td>\n",
       "      <td>₹34,490</td>\n",
       "      <td>₹67,790</td>\n",
       "      <td>NaN</td>\n",
       "    </tr>\n",
       "  </tbody>\n",
       "</table>\n",
       "</div>"
      ],
      "text/plain": [
       "                                                name main_category  \\\n",
       "0  Lloyd 1.5 Ton 3 Star Inverter Split Ac (5 In 1...    appliances   \n",
       "1  LG 1.5 Ton 5 Star AI DUAL Inverter Split AC (C...    appliances   \n",
       "2  LG 1 Ton 4 Star Ai Dual Inverter Split Ac (Cop...    appliances   \n",
       "3  LG 1.5 Ton 3 Star AI DUAL Inverter Split AC (C...    appliances   \n",
       "4  Carrier 1.5 Ton 3 Star Inverter Split AC (Copp...    appliances   \n",
       "\n",
       "       sub_category ratings no_of_ratings discount_price actual_price  \\\n",
       "0  Air Conditioners     4.2         2,255        ₹32,999      ₹58,990   \n",
       "1  Air Conditioners     4.2         2,948        ₹46,490      ₹75,990   \n",
       "2  Air Conditioners     4.2         1,206        ₹34,490      ₹61,990   \n",
       "3  Air Conditioners     4.0            69        ₹37,990      ₹68,990   \n",
       "4  Air Conditioners     4.1           630        ₹34,490      ₹67,790   \n",
       "\n",
       "   Unnamed: 0  \n",
       "0         NaN  \n",
       "1         NaN  \n",
       "2         NaN  \n",
       "3         NaN  \n",
       "4         NaN  "
      ]
     },
     "execution_count": 66,
     "metadata": {},
     "output_type": "execute_result"
    }
   ],
   "source": [
    "df.head()"
   ]
  },
  {
   "cell_type": "code",
   "execution_count": 67,
   "metadata": {},
   "outputs": [
    {
     "data": {
      "text/html": [
       "<div>\n",
       "<style scoped>\n",
       "    .dataframe tbody tr th:only-of-type {\n",
       "        vertical-align: middle;\n",
       "    }\n",
       "\n",
       "    .dataframe tbody tr th {\n",
       "        vertical-align: top;\n",
       "    }\n",
       "\n",
       "    .dataframe thead th {\n",
       "        text-align: right;\n",
       "    }\n",
       "</style>\n",
       "<table border=\"1\" class=\"dataframe\">\n",
       "  <thead>\n",
       "    <tr style=\"text-align: right;\">\n",
       "      <th></th>\n",
       "      <th>name</th>\n",
       "      <th>main_category</th>\n",
       "      <th>sub_category</th>\n",
       "      <th>ratings</th>\n",
       "      <th>no_of_ratings</th>\n",
       "      <th>discount_price</th>\n",
       "      <th>actual_price</th>\n",
       "      <th>Unnamed: 0</th>\n",
       "    </tr>\n",
       "  </thead>\n",
       "  <tbody>\n",
       "    <tr>\n",
       "      <th>566298</th>\n",
       "      <td>DIMPY GARMENTS Solid Plus Size Women Denim Jacket</td>\n",
       "      <td>women's clothing</td>\n",
       "      <td>Western Wear</td>\n",
       "      <td>NaN</td>\n",
       "      <td>NaN</td>\n",
       "      <td>₹599</td>\n",
       "      <td>₹1,499</td>\n",
       "      <td>8377.0</td>\n",
       "    </tr>\n",
       "    <tr>\n",
       "      <th>605696</th>\n",
       "      <td>DSR\" Keyrings &amp; Keychains Doll Pendant Cute Ca...</td>\n",
       "      <td>accessories</td>\n",
       "      <td>Bags &amp; Luggage</td>\n",
       "      <td>4.4</td>\n",
       "      <td>32</td>\n",
       "      <td>₹449</td>\n",
       "      <td>₹1,999</td>\n",
       "      <td>NaN</td>\n",
       "    </tr>\n",
       "    <tr>\n",
       "      <th>234387</th>\n",
       "      <td>Avsar 14k (585) Yellow Gold Ring for Women</td>\n",
       "      <td>accessories</td>\n",
       "      <td>Gold &amp; Diamond Jewellery</td>\n",
       "      <td>NaN</td>\n",
       "      <td>NaN</td>\n",
       "      <td>₹18,083</td>\n",
       "      <td>₹43,884</td>\n",
       "      <td>10759.0</td>\n",
       "    </tr>\n",
       "    <tr>\n",
       "      <th>730642</th>\n",
       "      <td>New Police Oxford Derby Lace-up Formal Uniform...</td>\n",
       "      <td>men's shoes</td>\n",
       "      <td>Formal Shoes</td>\n",
       "      <td>NaN</td>\n",
       "      <td>NaN</td>\n",
       "      <td>₹499</td>\n",
       "      <td>₹999</td>\n",
       "      <td>NaN</td>\n",
       "    </tr>\n",
       "    <tr>\n",
       "      <th>59557</th>\n",
       "      <td>Baby Girl Hair Accessories Set Baby Head Band,...</td>\n",
       "      <td>kids' fashion</td>\n",
       "      <td>Baby Fashion</td>\n",
       "      <td>NaN</td>\n",
       "      <td>NaN</td>\n",
       "      <td>₹199</td>\n",
       "      <td>₹450</td>\n",
       "      <td>661.0</td>\n",
       "    </tr>\n",
       "  </tbody>\n",
       "</table>\n",
       "</div>"
      ],
      "text/plain": [
       "                                                     name     main_category  \\\n",
       "566298  DIMPY GARMENTS Solid Plus Size Women Denim Jacket  women's clothing   \n",
       "605696  DSR\" Keyrings & Keychains Doll Pendant Cute Ca...       accessories   \n",
       "234387         Avsar 14k (585) Yellow Gold Ring for Women       accessories   \n",
       "730642  New Police Oxford Derby Lace-up Formal Uniform...       men's shoes   \n",
       "59557   Baby Girl Hair Accessories Set Baby Head Band,...     kids' fashion   \n",
       "\n",
       "                    sub_category ratings no_of_ratings discount_price  \\\n",
       "566298              Western Wear     NaN           NaN           ₹599   \n",
       "605696            Bags & Luggage     4.4            32           ₹449   \n",
       "234387  Gold & Diamond Jewellery     NaN           NaN        ₹18,083   \n",
       "730642              Formal Shoes     NaN           NaN           ₹499   \n",
       "59557               Baby Fashion     NaN           NaN           ₹199   \n",
       "\n",
       "       actual_price  Unnamed: 0  \n",
       "566298       ₹1,499      8377.0  \n",
       "605696       ₹1,999         NaN  \n",
       "234387      ₹43,884     10759.0  \n",
       "730642         ₹999         NaN  \n",
       "59557          ₹450       661.0  "
      ]
     },
     "execution_count": 67,
     "metadata": {},
     "output_type": "execute_result"
    }
   ],
   "source": [
    "df.sample(5)"
   ]
  },
  {
   "cell_type": "code",
   "execution_count": 68,
   "metadata": {},
   "outputs": [
    {
     "name": "stdout",
     "output_type": "stream",
     "text": [
      "<class 'pandas.core.frame.DataFrame'>\n",
      "RangeIndex: 1103170 entries, 0 to 1103169\n",
      "Data columns (total 8 columns):\n",
      " #   Column          Non-Null Count    Dtype  \n",
      "---  ------          --------------    -----  \n",
      " 0   name            1103170 non-null  object \n",
      " 1   main_category   1103170 non-null  object \n",
      " 2   sub_category    1103170 non-null  object \n",
      " 3   ratings         751582 non-null   object \n",
      " 4   no_of_ratings   751582 non-null   object \n",
      " 5   discount_price  980844 non-null   object \n",
      " 6   actual_price    1067544 non-null  object \n",
      " 7   Unnamed: 0      551585 non-null   float64\n",
      "dtypes: float64(1), object(7)\n",
      "memory usage: 67.3+ MB\n"
     ]
    }
   ],
   "source": [
    "df.info()"
   ]
  },
  {
   "cell_type": "code",
   "execution_count": 69,
   "metadata": {},
   "outputs": [],
   "source": [
    "df.drop(columns=['Unnamed: 0'], inplace=True)"
   ]
  },
  {
   "cell_type": "code",
   "execution_count": 70,
   "metadata": {},
   "outputs": [
    {
     "data": {
      "text/html": [
       "<div>\n",
       "<style scoped>\n",
       "    .dataframe tbody tr th:only-of-type {\n",
       "        vertical-align: middle;\n",
       "    }\n",
       "\n",
       "    .dataframe tbody tr th {\n",
       "        vertical-align: top;\n",
       "    }\n",
       "\n",
       "    .dataframe thead th {\n",
       "        text-align: right;\n",
       "    }\n",
       "</style>\n",
       "<table border=\"1\" class=\"dataframe\">\n",
       "  <thead>\n",
       "    <tr style=\"text-align: right;\">\n",
       "      <th></th>\n",
       "      <th>name</th>\n",
       "      <th>main_category</th>\n",
       "      <th>sub_category</th>\n",
       "      <th>ratings</th>\n",
       "      <th>no_of_ratings</th>\n",
       "      <th>discount_price</th>\n",
       "      <th>actual_price</th>\n",
       "    </tr>\n",
       "  </thead>\n",
       "  <tbody>\n",
       "    <tr>\n",
       "      <th>count</th>\n",
       "      <td>1103170</td>\n",
       "      <td>1103170</td>\n",
       "      <td>1103170</td>\n",
       "      <td>751582</td>\n",
       "      <td>751582</td>\n",
       "      <td>980844</td>\n",
       "      <td>1067544</td>\n",
       "    </tr>\n",
       "    <tr>\n",
       "      <th>unique</th>\n",
       "      <td>396210</td>\n",
       "      <td>20</td>\n",
       "      <td>112</td>\n",
       "      <td>49</td>\n",
       "      <td>8342</td>\n",
       "      <td>27511</td>\n",
       "      <td>23170</td>\n",
       "    </tr>\n",
       "    <tr>\n",
       "      <th>top</th>\n",
       "      <td>Zeya Yellow Gold Ring</td>\n",
       "      <td>accessories</td>\n",
       "      <td>Shirts</td>\n",
       "      <td>4.0</td>\n",
       "      <td>1</td>\n",
       "      <td>₹499</td>\n",
       "      <td>₹999</td>\n",
       "    </tr>\n",
       "    <tr>\n",
       "      <th>freq</th>\n",
       "      <td>1436</td>\n",
       "      <td>232282</td>\n",
       "      <td>38400</td>\n",
       "      <td>73218</td>\n",
       "      <td>79632</td>\n",
       "      <td>36496</td>\n",
       "      <td>97548</td>\n",
       "    </tr>\n",
       "  </tbody>\n",
       "</table>\n",
       "</div>"
      ],
      "text/plain": [
       "                         name main_category sub_category ratings  \\\n",
       "count                 1103170       1103170      1103170  751582   \n",
       "unique                 396210            20          112      49   \n",
       "top     Zeya Yellow Gold Ring   accessories       Shirts     4.0   \n",
       "freq                     1436        232282        38400   73218   \n",
       "\n",
       "       no_of_ratings discount_price actual_price  \n",
       "count         751582         980844      1067544  \n",
       "unique          8342          27511        23170  \n",
       "top                1           ₹499         ₹999  \n",
       "freq           79632          36496        97548  "
      ]
     },
     "execution_count": 70,
     "metadata": {},
     "output_type": "execute_result"
    }
   ],
   "source": [
    "df.describe()"
   ]
  },
  {
   "cell_type": "code",
   "execution_count": 73,
   "metadata": {},
   "outputs": [],
   "source": [
    "df['discount_price'] = df['discount_price'].apply(lambda x: x[1:] if pd.notnull(x) else x)"
   ]
  },
  {
   "cell_type": "code",
   "execution_count": 75,
   "metadata": {},
   "outputs": [],
   "source": [
    "df['actual_price'] = df['actual_price'].apply(lambda x: x[1:] if pd.notnull(x) else x)"
   ]
  },
  {
   "cell_type": "code",
   "execution_count": 76,
   "metadata": {},
   "outputs": [
    {
     "data": {
      "text/html": [
       "<div>\n",
       "<style scoped>\n",
       "    .dataframe tbody tr th:only-of-type {\n",
       "        vertical-align: middle;\n",
       "    }\n",
       "\n",
       "    .dataframe tbody tr th {\n",
       "        vertical-align: top;\n",
       "    }\n",
       "\n",
       "    .dataframe thead th {\n",
       "        text-align: right;\n",
       "    }\n",
       "</style>\n",
       "<table border=\"1\" class=\"dataframe\">\n",
       "  <thead>\n",
       "    <tr style=\"text-align: right;\">\n",
       "      <th></th>\n",
       "      <th>name</th>\n",
       "      <th>main_category</th>\n",
       "      <th>sub_category</th>\n",
       "      <th>ratings</th>\n",
       "      <th>no_of_ratings</th>\n",
       "      <th>discount_price</th>\n",
       "      <th>actual_price</th>\n",
       "    </tr>\n",
       "  </thead>\n",
       "  <tbody>\n",
       "    <tr>\n",
       "      <th>1049713</th>\n",
       "      <td>Levi's Men's Regular Fit T-Shirt</td>\n",
       "      <td>men's clothing</td>\n",
       "      <td>T-shirts &amp; Polos</td>\n",
       "      <td>NaN</td>\n",
       "      <td>NaN</td>\n",
       "      <td>1,025</td>\n",
       "      <td>1,799</td>\n",
       "    </tr>\n",
       "    <tr>\n",
       "      <th>732327</th>\n",
       "      <td>HiREL'S Men's Tan Leather Slip On Formal Shoes</td>\n",
       "      <td>men's shoes</td>\n",
       "      <td>Formal Shoes</td>\n",
       "      <td>3.0</td>\n",
       "      <td>1</td>\n",
       "      <td>1,500</td>\n",
       "      <td>3,500</td>\n",
       "    </tr>\n",
       "    <tr>\n",
       "      <th>997462</th>\n",
       "      <td>Shopnet Wireless Bluetooth Speaker TG113 For L...</td>\n",
       "      <td>tv, audio &amp; cameras</td>\n",
       "      <td>Speakers</td>\n",
       "      <td>NaN</td>\n",
       "      <td>NaN</td>\n",
       "      <td>999</td>\n",
       "      <td>1,599</td>\n",
       "    </tr>\n",
       "    <tr>\n",
       "      <th>664277</th>\n",
       "      <td>Qeboo Collection Women Jeans High Waist Ankle ...</td>\n",
       "      <td>women's clothing</td>\n",
       "      <td>Clothing</td>\n",
       "      <td>5.0</td>\n",
       "      <td>2</td>\n",
       "      <td>695</td>\n",
       "      <td>1,499</td>\n",
       "    </tr>\n",
       "    <tr>\n",
       "      <th>436565</th>\n",
       "      <td>IMPACT BY HONEYWELL 2 MP CCTV KIT Without DVR ...</td>\n",
       "      <td>tv, audio &amp; cameras</td>\n",
       "      <td>Security Cameras</td>\n",
       "      <td>NaN</td>\n",
       "      <td>NaN</td>\n",
       "      <td>13,999</td>\n",
       "      <td>36,220</td>\n",
       "    </tr>\n",
       "  </tbody>\n",
       "</table>\n",
       "</div>"
      ],
      "text/plain": [
       "                                                      name  \\\n",
       "1049713                   Levi's Men's Regular Fit T-Shirt   \n",
       "732327      HiREL'S Men's Tan Leather Slip On Formal Shoes   \n",
       "997462   Shopnet Wireless Bluetooth Speaker TG113 For L...   \n",
       "664277   Qeboo Collection Women Jeans High Waist Ankle ...   \n",
       "436565   IMPACT BY HONEYWELL 2 MP CCTV KIT Without DVR ...   \n",
       "\n",
       "               main_category      sub_category ratings no_of_ratings  \\\n",
       "1049713       men's clothing  T-shirts & Polos     NaN           NaN   \n",
       "732327           men's shoes      Formal Shoes     3.0             1   \n",
       "997462   tv, audio & cameras          Speakers     NaN           NaN   \n",
       "664277      women's clothing          Clothing     5.0             2   \n",
       "436565   tv, audio & cameras  Security Cameras     NaN           NaN   \n",
       "\n",
       "        discount_price actual_price  \n",
       "1049713          1,025        1,799  \n",
       "732327           1,500        3,500  \n",
       "997462             999        1,599  \n",
       "664277             695        1,499  \n",
       "436565          13,999       36,220  "
      ]
     },
     "execution_count": 76,
     "metadata": {},
     "output_type": "execute_result"
    }
   ],
   "source": [
    "df.sample(5)"
   ]
  },
  {
   "cell_type": "code",
   "execution_count": 77,
   "metadata": {},
   "outputs": [],
   "source": [
    "df['discount_price'] = df['discount_price'].str.replace(',','')\n",
    "df['actual_price'] = df['actual_price'].str.replace(',','')"
   ]
  },
  {
   "cell_type": "code",
   "execution_count": 78,
   "metadata": {},
   "outputs": [
    {
     "data": {
      "text/html": [
       "<div>\n",
       "<style scoped>\n",
       "    .dataframe tbody tr th:only-of-type {\n",
       "        vertical-align: middle;\n",
       "    }\n",
       "\n",
       "    .dataframe tbody tr th {\n",
       "        vertical-align: top;\n",
       "    }\n",
       "\n",
       "    .dataframe thead th {\n",
       "        text-align: right;\n",
       "    }\n",
       "</style>\n",
       "<table border=\"1\" class=\"dataframe\">\n",
       "  <thead>\n",
       "    <tr style=\"text-align: right;\">\n",
       "      <th></th>\n",
       "      <th>name</th>\n",
       "      <th>main_category</th>\n",
       "      <th>sub_category</th>\n",
       "      <th>ratings</th>\n",
       "      <th>no_of_ratings</th>\n",
       "      <th>discount_price</th>\n",
       "      <th>actual_price</th>\n",
       "    </tr>\n",
       "  </thead>\n",
       "  <tbody>\n",
       "    <tr>\n",
       "      <th>58349</th>\n",
       "      <td>SYGA Baby Girls Nylon Headbands Hairbands Hair...</td>\n",
       "      <td>toys &amp; baby products</td>\n",
       "      <td>Baby Bath, Skin &amp; Grooming</td>\n",
       "      <td>4.4</td>\n",
       "      <td>10</td>\n",
       "      <td>199</td>\n",
       "      <td>499</td>\n",
       "    </tr>\n",
       "    <tr>\n",
       "      <th>247866</th>\n",
       "      <td>ZOUK Women's Handmade Vegan Leather and Jute P...</td>\n",
       "      <td>accessories</td>\n",
       "      <td>Handbags &amp; Clutches</td>\n",
       "      <td>4.0</td>\n",
       "      <td>21</td>\n",
       "      <td>899</td>\n",
       "      <td>2198</td>\n",
       "    </tr>\n",
       "    <tr>\n",
       "      <th>758169</th>\n",
       "      <td>Avsar 14k (585) Yellow Gold Pendant for Women</td>\n",
       "      <td>accessories</td>\n",
       "      <td>Gold &amp; Diamond Jewellery</td>\n",
       "      <td>NaN</td>\n",
       "      <td>NaN</td>\n",
       "      <td>7707</td>\n",
       "      <td>18432</td>\n",
       "    </tr>\n",
       "    <tr>\n",
       "      <th>462083</th>\n",
       "      <td>blackberrys Men's Skinny Fit Shirt</td>\n",
       "      <td>men's clothing</td>\n",
       "      <td>Shirts</td>\n",
       "      <td>NaN</td>\n",
       "      <td>NaN</td>\n",
       "      <td>1209</td>\n",
       "      <td>2599</td>\n",
       "    </tr>\n",
       "    <tr>\n",
       "      <th>225977</th>\n",
       "      <td>Avsar Real Gold 14K RING AVR372YB</td>\n",
       "      <td>accessories</td>\n",
       "      <td>Gold &amp; Diamond Jewellery</td>\n",
       "      <td>NaN</td>\n",
       "      <td>NaN</td>\n",
       "      <td>10755</td>\n",
       "      <td>21511</td>\n",
       "    </tr>\n",
       "  </tbody>\n",
       "</table>\n",
       "</div>"
      ],
      "text/plain": [
       "                                                     name  \\\n",
       "58349   SYGA Baby Girls Nylon Headbands Hairbands Hair...   \n",
       "247866  ZOUK Women's Handmade Vegan Leather and Jute P...   \n",
       "758169      Avsar 14k (585) Yellow Gold Pendant for Women   \n",
       "462083                 blackberrys Men's Skinny Fit Shirt   \n",
       "225977                  Avsar Real Gold 14K RING AVR372YB   \n",
       "\n",
       "               main_category                sub_category ratings  \\\n",
       "58349   toys & baby products  Baby Bath, Skin & Grooming     4.4   \n",
       "247866           accessories         Handbags & Clutches     4.0   \n",
       "758169           accessories    Gold & Diamond Jewellery     NaN   \n",
       "462083        men's clothing                      Shirts     NaN   \n",
       "225977           accessories    Gold & Diamond Jewellery     NaN   \n",
       "\n",
       "       no_of_ratings discount_price actual_price  \n",
       "58349             10            199          499  \n",
       "247866            21            899         2198  \n",
       "758169           NaN           7707        18432  \n",
       "462083           NaN           1209         2599  \n",
       "225977           NaN          10755        21511  "
      ]
     },
     "execution_count": 78,
     "metadata": {},
     "output_type": "execute_result"
    }
   ],
   "source": [
    "df.sample(5)"
   ]
  },
  {
   "cell_type": "code",
   "execution_count": 79,
   "metadata": {},
   "outputs": [],
   "source": [
    "df['ratings'] = pd.to_numeric(df['ratings'], errors='coerce')\n",
    "df['no_of_ratings'] = pd.to_numeric(df['no_of_ratings'], errors='coerce')\n",
    "df['discount_price'] = pd.to_numeric(df['discount_price'], errors='coerce')\n",
    "df['actual_price'] = pd.to_numeric(df['actual_price'], errors='coerce')"
   ]
  },
  {
   "cell_type": "code",
   "execution_count": 80,
   "metadata": {},
   "outputs": [
    {
     "data": {
      "text/html": [
       "<div>\n",
       "<style scoped>\n",
       "    .dataframe tbody tr th:only-of-type {\n",
       "        vertical-align: middle;\n",
       "    }\n",
       "\n",
       "    .dataframe tbody tr th {\n",
       "        vertical-align: top;\n",
       "    }\n",
       "\n",
       "    .dataframe thead th {\n",
       "        text-align: right;\n",
       "    }\n",
       "</style>\n",
       "<table border=\"1\" class=\"dataframe\">\n",
       "  <thead>\n",
       "    <tr style=\"text-align: right;\">\n",
       "      <th></th>\n",
       "      <th>name</th>\n",
       "      <th>main_category</th>\n",
       "      <th>sub_category</th>\n",
       "      <th>ratings</th>\n",
       "      <th>no_of_ratings</th>\n",
       "      <th>discount_price</th>\n",
       "      <th>actual_price</th>\n",
       "    </tr>\n",
       "  </thead>\n",
       "  <tbody>\n",
       "    <tr>\n",
       "      <th>799920</th>\n",
       "      <td>Orpat 2000 Watt Element Heater Fan Heater Room...</td>\n",
       "      <td>appliances</td>\n",
       "      <td>Heating &amp; Cooling Appliances</td>\n",
       "      <td>4.2</td>\n",
       "      <td>54.0</td>\n",
       "      <td>1210.0</td>\n",
       "      <td>1295.0</td>\n",
       "    </tr>\n",
       "    <tr>\n",
       "      <th>603360</th>\n",
       "      <td>Baggit Women's Sling Bag - Medium</td>\n",
       "      <td>accessories</td>\n",
       "      <td>Bags &amp; Luggage</td>\n",
       "      <td>NaN</td>\n",
       "      <td>NaN</td>\n",
       "      <td>1512.0</td>\n",
       "      <td>1890.0</td>\n",
       "    </tr>\n",
       "    <tr>\n",
       "      <th>682738</th>\n",
       "      <td>Sangam Prints Women's Pashmina Printed Saree w...</td>\n",
       "      <td>women's clothing</td>\n",
       "      <td>Ethnic Wear</td>\n",
       "      <td>4.0</td>\n",
       "      <td>6.0</td>\n",
       "      <td>899.0</td>\n",
       "      <td>3440.0</td>\n",
       "    </tr>\n",
       "    <tr>\n",
       "      <th>21107</th>\n",
       "      <td>Spigen Thin Fit Back Cover Case Compatible for...</td>\n",
       "      <td>tv, audio &amp; cameras</td>\n",
       "      <td>All Electronics</td>\n",
       "      <td>4.4</td>\n",
       "      <td>297.0</td>\n",
       "      <td>1299.0</td>\n",
       "      <td>1699.0</td>\n",
       "    </tr>\n",
       "    <tr>\n",
       "      <th>624773</th>\n",
       "      <td>FND UV Filter 49MM Replacement for Canon EOS M...</td>\n",
       "      <td>tv, audio &amp; cameras</td>\n",
       "      <td>Cameras</td>\n",
       "      <td>4.0</td>\n",
       "      <td>1.0</td>\n",
       "      <td>799.0</td>\n",
       "      <td>899.0</td>\n",
       "    </tr>\n",
       "  </tbody>\n",
       "</table>\n",
       "</div>"
      ],
      "text/plain": [
       "                                                     name  \\\n",
       "799920  Orpat 2000 Watt Element Heater Fan Heater Room...   \n",
       "603360                  Baggit Women's Sling Bag - Medium   \n",
       "682738  Sangam Prints Women's Pashmina Printed Saree w...   \n",
       "21107   Spigen Thin Fit Back Cover Case Compatible for...   \n",
       "624773  FND UV Filter 49MM Replacement for Canon EOS M...   \n",
       "\n",
       "              main_category                  sub_category  ratings  \\\n",
       "799920           appliances  Heating & Cooling Appliances      4.2   \n",
       "603360          accessories                Bags & Luggage      NaN   \n",
       "682738     women's clothing                   Ethnic Wear      4.0   \n",
       "21107   tv, audio & cameras               All Electronics      4.4   \n",
       "624773  tv, audio & cameras                       Cameras      4.0   \n",
       "\n",
       "        no_of_ratings  discount_price  actual_price  \n",
       "799920           54.0          1210.0        1295.0  \n",
       "603360            NaN          1512.0        1890.0  \n",
       "682738            6.0           899.0        3440.0  \n",
       "21107           297.0          1299.0        1699.0  \n",
       "624773            1.0           799.0         899.0  "
      ]
     },
     "execution_count": 80,
     "metadata": {},
     "output_type": "execute_result"
    }
   ],
   "source": [
    "df.sample(5)"
   ]
  },
  {
   "cell_type": "code",
   "execution_count": 81,
   "metadata": {},
   "outputs": [
    {
     "data": {
      "text/plain": [
       "name                   0\n",
       "main_category          0\n",
       "sub_category           0\n",
       "ratings           364054\n",
       "no_of_ratings     425112\n",
       "discount_price    122326\n",
       "actual_price       35626\n",
       "dtype: int64"
      ]
     },
     "execution_count": 81,
     "metadata": {},
     "output_type": "execute_result"
    }
   ],
   "source": [
    "df.isnull().sum()"
   ]
  },
  {
   "cell_type": "markdown",
   "metadata": {},
   "source": [
    "#### List of unique main categories"
   ]
  },
  {
   "cell_type": "code",
   "execution_count": 84,
   "metadata": {},
   "outputs": [
    {
     "data": {
      "text/plain": [
       "array(['appliances', 'car & motorbike', 'tv, audio & cameras',\n",
       "       'sports & fitness', 'grocery & gourmet foods', 'home & kitchen',\n",
       "       'pet supplies', 'stores', 'toys & baby products', \"kids' fashion\",\n",
       "       'bags & luggage', 'accessories', \"women's shoes\",\n",
       "       'beauty & health', \"men's shoes\", \"women's clothing\",\n",
       "       'industrial supplies', \"men's clothing\", 'music',\n",
       "       'home, kitchen, pets'], dtype=object)"
      ]
     },
     "execution_count": 84,
     "metadata": {},
     "output_type": "execute_result"
    }
   ],
   "source": [
    "df['main_category'].unique()"
   ]
  },
  {
   "cell_type": "markdown",
   "metadata": {},
   "source": [
    "#### List of unique sub categories"
   ]
  },
  {
   "cell_type": "code",
   "execution_count": 85,
   "metadata": {},
   "outputs": [
    {
     "data": {
      "text/plain": [
       "array(['Air Conditioners', 'All Appliances',\n",
       "       'All Car & Motorbike Products', 'All Electronics',\n",
       "       'All Exercise & Fitness', 'All Grocery & Gourmet Foods',\n",
       "       'All Home & Kitchen', 'All Pet Supplies',\n",
       "       'All Sports, Fitness & Outdoors', 'Amazon Fashion',\n",
       "       'Baby Bath, Skin & Grooming', 'Baby Fashion', 'Baby Products',\n",
       "       'Backpacks', 'Badminton', 'Bags & Luggage', 'Ballerinas',\n",
       "       'Beauty & Grooming', 'Bedroom Linen', 'Camera Accessories',\n",
       "       'Cameras', 'Camping & Hiking', 'Car & Bike Care',\n",
       "       'Car Accessories', 'Car Electronics', 'Car Parts',\n",
       "       'Cardio Equipment', 'Casual Shoes', 'Clothing',\n",
       "       'Coffee, Tea & Beverages', 'Cricket', 'Cycling', 'Diapers',\n",
       "       'Diet & Nutrition', 'Dog supplies', 'Ethnic Wear',\n",
       "       'Fashion & Silver Jewellery', 'Fashion Sales & Deals',\n",
       "       'Fashion Sandals', 'Fitness Accessories', 'Football',\n",
       "       'Formal Shoes', 'Furniture', 'Garden & Outdoors',\n",
       "       'Gold & Diamond Jewellery', 'Handbags & Clutches', 'Headphones',\n",
       "       'Health & Personal Care', 'Heating & Cooling Appliances',\n",
       "       'Home Audio & Theater', 'Home Décor', 'Home Entertainment Systems',\n",
       "       'Home Furnishing', 'Home Improvement', 'Home Storage',\n",
       "       'Household Supplies', 'Indoor Lighting',\n",
       "       'Industrial & Scientific Supplies', 'Innerwear',\n",
       "       'International Toy Store', 'Janitorial & Sanitation Supplies',\n",
       "       'Jeans', 'Jewellery', \"Kids' Clothing\", \"Kids' Fashion\",\n",
       "       \"Kids' Shoes\", \"Kids' Watches\", 'Kitchen & Dining',\n",
       "       'Kitchen & Home Appliances', 'Kitchen Storage & Containers',\n",
       "       'Lab & Scientific', 'Lingerie & Nightwear', 'Luxury Beauty',\n",
       "       'Make-up', \"Men's Fashion\", 'Motorbike Accessories & Parts',\n",
       "       'Musical Instruments & Professional Audio', 'Nursing & Feeding',\n",
       "       'Personal Care Appliances', 'Refrigerators',\n",
       "       'Refurbished & Open Box', 'Rucksacks', 'Running', 'School Bags',\n",
       "       'Security Cameras', 'Sewing & Craft Supplies', 'Shirts', 'Shoes',\n",
       "       'Snack Foods', 'Speakers', 'Sports Shoes', 'Sportswear',\n",
       "       'STEM Toys Store', 'Strength Training', 'Strollers & Prams',\n",
       "       'Suitcases & Trolley Bags', 'Sunglasses', 'T-shirts & Polos',\n",
       "       'Televisions', 'Test, Measure & Inspect', 'The Designer Boutique',\n",
       "       'Toys & Games', 'Toys Gifting Store', 'Travel Accessories',\n",
       "       'Travel Duffles', 'Value Bazaar', 'Wallets', 'Washing Machines',\n",
       "       'Watches', 'Western Wear', \"Women's Fashion\", 'Yoga'], dtype=object)"
      ]
     },
     "execution_count": 85,
     "metadata": {},
     "output_type": "execute_result"
    }
   ],
   "source": [
    "df['sub_category'].unique()"
   ]
  },
  {
   "cell_type": "markdown",
   "metadata": {},
   "source": [
    "### Q.1: Number of items available with discount?"
   ]
  },
  {
   "cell_type": "code",
   "execution_count": 89,
   "metadata": {},
   "outputs": [
    {
     "name": "stdout",
     "output_type": "stream",
     "text": [
      "<class 'pandas.core.frame.DataFrame'>\n",
      "RangeIndex: 1103170 entries, 0 to 1103169\n",
      "Data columns (total 7 columns):\n",
      " #   Column          Non-Null Count    Dtype  \n",
      "---  ------          --------------    -----  \n",
      " 0   name            1103170 non-null  object \n",
      " 1   main_category   1103170 non-null  object \n",
      " 2   sub_category    1103170 non-null  object \n",
      " 3   ratings         739116 non-null   float64\n",
      " 4   no_of_ratings   678058 non-null   float64\n",
      " 5   discount_price  980844 non-null   float64\n",
      " 6   actual_price    1067544 non-null  float64\n",
      "dtypes: float64(4), object(3)\n",
      "memory usage: 58.9+ MB\n"
     ]
    }
   ],
   "source": [
    "df.info()\n",
    "# Non null rows: 980844"
   ]
  },
  {
   "cell_type": "code",
   "execution_count": 93,
   "metadata": {},
   "outputs": [],
   "source": [
    "items_with_discount = df[df['discount_price'] < df['actual_price']]"
   ]
  },
  {
   "cell_type": "code",
   "execution_count": 92,
   "metadata": {},
   "outputs": [
    {
     "data": {
      "text/plain": [
       "980844"
      ]
     },
     "execution_count": 92,
     "metadata": {},
     "output_type": "execute_result"
    }
   ],
   "source": [
    "(df['discount_price'] < df['actual_price']).sum()\n",
    "#Answer:980844"
   ]
  },
  {
   "cell_type": "markdown",
   "metadata": {},
   "source": [
    "#### There can be some condition where discounted price might be high than actual price and we can not include them in discounted items so, we inspected if that is case or not?"
   ]
  },
  {
   "cell_type": "code",
   "execution_count": 95,
   "metadata": {},
   "outputs": [
    {
     "data": {
      "text/html": [
       "<div>\n",
       "<style scoped>\n",
       "    .dataframe tbody tr th:only-of-type {\n",
       "        vertical-align: middle;\n",
       "    }\n",
       "\n",
       "    .dataframe tbody tr th {\n",
       "        vertical-align: top;\n",
       "    }\n",
       "\n",
       "    .dataframe thead th {\n",
       "        text-align: right;\n",
       "    }\n",
       "</style>\n",
       "<table border=\"1\" class=\"dataframe\">\n",
       "  <thead>\n",
       "    <tr style=\"text-align: right;\">\n",
       "      <th></th>\n",
       "      <th>name</th>\n",
       "      <th>main_category</th>\n",
       "      <th>sub_category</th>\n",
       "      <th>ratings</th>\n",
       "      <th>no_of_ratings</th>\n",
       "      <th>discount_price</th>\n",
       "      <th>actual_price</th>\n",
       "    </tr>\n",
       "  </thead>\n",
       "  <tbody>\n",
       "    <tr>\n",
       "      <th>125685</th>\n",
       "      <td>Sapatos Men Casual Clogs, Ideal for Men (ST-6262)</td>\n",
       "      <td>men's shoes</td>\n",
       "      <td>Casual Shoes</td>\n",
       "      <td>2.4</td>\n",
       "      <td>6.0</td>\n",
       "      <td>599.0</td>\n",
       "      <td>999.0</td>\n",
       "    </tr>\n",
       "    <tr>\n",
       "      <th>87098</th>\n",
       "      <td>Dealsure Professionals Design Perfect Shaver A...</td>\n",
       "      <td>beauty &amp; health</td>\n",
       "      <td>Beauty &amp; Grooming</td>\n",
       "      <td>3.4</td>\n",
       "      <td>9.0</td>\n",
       "      <td>775.0</td>\n",
       "      <td>3999.0</td>\n",
       "    </tr>\n",
       "    <tr>\n",
       "      <th>305942</th>\n",
       "      <td>Sexy Beast Basics Cotton Boxer Shorts for Men ...</td>\n",
       "      <td>men's clothing</td>\n",
       "      <td>Innerwear</td>\n",
       "      <td>NaN</td>\n",
       "      <td>NaN</td>\n",
       "      <td>399.0</td>\n",
       "      <td>599.0</td>\n",
       "    </tr>\n",
       "    <tr>\n",
       "      <th>232801</th>\n",
       "      <td>PC Jeweller 22k (916) Yellow Gold Ring for Women</td>\n",
       "      <td>accessories</td>\n",
       "      <td>Gold &amp; Diamond Jewellery</td>\n",
       "      <td>NaN</td>\n",
       "      <td>NaN</td>\n",
       "      <td>41670.0</td>\n",
       "      <td>49359.0</td>\n",
       "    </tr>\n",
       "    <tr>\n",
       "      <th>128750</th>\n",
       "      <td>Men Side Chain Boots</td>\n",
       "      <td>men's shoes</td>\n",
       "      <td>Casual Shoes</td>\n",
       "      <td>NaN</td>\n",
       "      <td>NaN</td>\n",
       "      <td>799.0</td>\n",
       "      <td>2999.0</td>\n",
       "    </tr>\n",
       "  </tbody>\n",
       "</table>\n",
       "</div>"
      ],
      "text/plain": [
       "                                                     name    main_category  \\\n",
       "125685  Sapatos Men Casual Clogs, Ideal for Men (ST-6262)      men's shoes   \n",
       "87098   Dealsure Professionals Design Perfect Shaver A...  beauty & health   \n",
       "305942  Sexy Beast Basics Cotton Boxer Shorts for Men ...   men's clothing   \n",
       "232801   PC Jeweller 22k (916) Yellow Gold Ring for Women      accessories   \n",
       "128750                               Men Side Chain Boots      men's shoes   \n",
       "\n",
       "                    sub_category  ratings  no_of_ratings  discount_price  \\\n",
       "125685              Casual Shoes      2.4            6.0           599.0   \n",
       "87098          Beauty & Grooming      3.4            9.0           775.0   \n",
       "305942                 Innerwear      NaN            NaN           399.0   \n",
       "232801  Gold & Diamond Jewellery      NaN            NaN         41670.0   \n",
       "128750              Casual Shoes      NaN            NaN           799.0   \n",
       "\n",
       "        actual_price  \n",
       "125685         999.0  \n",
       "87098         3999.0  \n",
       "305942         599.0  \n",
       "232801       49359.0  \n",
       "128750        2999.0  "
      ]
     },
     "execution_count": 95,
     "metadata": {},
     "output_type": "execute_result"
    }
   ],
   "source": [
    "df.sample(5)"
   ]
  },
  {
   "cell_type": "markdown",
   "metadata": {},
   "source": [
    "### Q.2: Items available for mens?"
   ]
  },
  {
   "cell_type": "code",
   "execution_count": 104,
   "metadata": {},
   "outputs": [],
   "source": [
    "items_available_for_men = df[df['name'].str.split(' ').apply(lambda x: True if 'Men' in x else False)]"
   ]
  },
  {
   "cell_type": "code",
   "execution_count": 105,
   "metadata": {},
   "outputs": [
    {
     "data": {
      "text/plain": [
       "116842"
      ]
     },
     "execution_count": 105,
     "metadata": {},
     "output_type": "execute_result"
    }
   ],
   "source": [
    "items_available_for_men.shape[0]\n",
    "#Answer: 116842"
   ]
  },
  {
   "cell_type": "code",
   "execution_count": 173,
   "metadata": {},
   "outputs": [
    {
     "data": {
      "text/plain": [
       "140974"
      ]
     },
     "execution_count": 173,
     "metadata": {},
     "output_type": "execute_result"
    }
   ],
   "source": [
    "items_available_for_women = df[df['name'].str.split(' ').apply(lambda x: True if 'Women' in x else False)]\n",
    "items_available_for_women.shape[0]"
   ]
  },
  {
   "cell_type": "markdown",
   "metadata": {},
   "source": [
    "### Q.3: What are the average ratings across different product categories?"
   ]
  },
  {
   "cell_type": "code",
   "execution_count": 129,
   "metadata": {},
   "outputs": [
    {
     "data": {
      "text/plain": [
       "main_category            sub_category               \n",
       "toys & baby products     International Toy Store        4.578947\n",
       "beauty & health          Value Bazaar                   4.304545\n",
       "grocery & gourmet foods  All Grocery & Gourmet Foods    4.176296\n",
       "beauty & health          Health & Personal Care         4.174317\n",
       "toys & baby products     Strollers & Prams              4.127092\n",
       "                                                          ...   \n",
       "tv, audio & cameras      Headphones                     3.503177\n",
       "car & motorbike          Car Electronics                3.497718\n",
       "beauty & health          Personal Care Appliances       3.455056\n",
       "tv, audio & cameras      Security Cameras               3.319143\n",
       "home, kitchen, pets      Refurbished & Open Box         3.135000\n",
       "Name: ratings, Length: 112, dtype: float64"
      ]
     },
     "execution_count": 129,
     "metadata": {},
     "output_type": "execute_result"
    }
   ],
   "source": [
    "avg_rating_by_main_category = df.groupby([df['main_category'],df['sub_category']])['ratings'].mean().sort_values(ascending=False)\n",
    "avg_rating_by_main_category"
   ]
  },
  {
   "cell_type": "code",
   "execution_count": 130,
   "metadata": {},
   "outputs": [
    {
     "data": {
      "text/plain": [
       "main_category\n",
       "grocery & gourmet foods    4.072739\n",
       "toys & baby products       4.030417\n",
       "pet supplies               4.029325\n",
       "beauty & health            4.002085\n",
       "home & kitchen             3.977118\n",
       "music                      3.964741\n",
       "stores                     3.946108\n",
       "bags & luggage             3.939759\n",
       "accessories                3.904224\n",
       "kids' fashion              3.861064\n",
       "appliances                 3.840975\n",
       "industrial supplies        3.840392\n",
       "tv, audio & cameras        3.825332\n",
       "sports & fitness           3.805097\n",
       "women's clothing           3.766114\n",
       "men's clothing             3.765749\n",
       "car & motorbike            3.727236\n",
       "women's shoes              3.678979\n",
       "men's shoes                3.638153\n",
       "home, kitchen, pets        3.135000\n",
       "Name: ratings, dtype: float64"
      ]
     },
     "execution_count": 130,
     "metadata": {},
     "output_type": "execute_result"
    }
   ],
   "source": [
    "avg_rating_by_sub_category = df.groupby(df['main_category'])['ratings'].mean().sort_values(ascending=False)\n",
    "avg_rating_by_sub_category"
   ]
  },
  {
   "cell_type": "markdown",
   "metadata": {},
   "source": [
    "### Q.4: Which products have the highest customer satisfaction (ratings) and why?"
   ]
  },
  {
   "cell_type": "code",
   "execution_count": 132,
   "metadata": {},
   "outputs": [
    {
     "data": {
      "text/html": [
       "<div>\n",
       "<style scoped>\n",
       "    .dataframe tbody tr th:only-of-type {\n",
       "        vertical-align: middle;\n",
       "    }\n",
       "\n",
       "    .dataframe tbody tr th {\n",
       "        vertical-align: top;\n",
       "    }\n",
       "\n",
       "    .dataframe thead th {\n",
       "        text-align: right;\n",
       "    }\n",
       "</style>\n",
       "<table border=\"1\" class=\"dataframe\">\n",
       "  <thead>\n",
       "    <tr style=\"text-align: right;\">\n",
       "      <th></th>\n",
       "      <th>name</th>\n",
       "      <th>main_category</th>\n",
       "      <th>sub_category</th>\n",
       "      <th>ratings</th>\n",
       "      <th>no_of_ratings</th>\n",
       "      <th>discount_price</th>\n",
       "      <th>actual_price</th>\n",
       "    </tr>\n",
       "  </thead>\n",
       "  <tbody>\n",
       "    <tr>\n",
       "      <th>19019</th>\n",
       "      <td>TheGiftKart Back Cover Soft Case for Samsung G...</td>\n",
       "      <td>tv, audio &amp; cameras</td>\n",
       "      <td>All Electronics</td>\n",
       "      <td>4.3</td>\n",
       "      <td>63.0</td>\n",
       "      <td>265.0</td>\n",
       "      <td>999.0</td>\n",
       "    </tr>\n",
       "    <tr>\n",
       "      <th>215953</th>\n",
       "      <td>Wolven Handcrafted Men's Morgan red &amp; Black Le...</td>\n",
       "      <td>men's shoes</td>\n",
       "      <td>Formal Shoes</td>\n",
       "      <td>NaN</td>\n",
       "      <td>NaN</td>\n",
       "      <td>1999.0</td>\n",
       "      <td>4999.0</td>\n",
       "    </tr>\n",
       "    <tr>\n",
       "      <th>283416</th>\n",
       "      <td>DOJI 14 LED 3 Meter Fairy String Lights,Plug i...</td>\n",
       "      <td>home &amp; kitchen</td>\n",
       "      <td>Home Décor</td>\n",
       "      <td>4.4</td>\n",
       "      <td>4.0</td>\n",
       "      <td>299.0</td>\n",
       "      <td>399.0</td>\n",
       "    </tr>\n",
       "    <tr>\n",
       "      <th>526333</th>\n",
       "      <td>Uniplanet Store Women Uchiha Naruto Round Neck...</td>\n",
       "      <td>men's clothing</td>\n",
       "      <td>T-shirts &amp; Polos</td>\n",
       "      <td>NaN</td>\n",
       "      <td>NaN</td>\n",
       "      <td>275.0</td>\n",
       "      <td>899.0</td>\n",
       "    </tr>\n",
       "    <tr>\n",
       "      <th>575111</th>\n",
       "      <td>Mode By Red Tape Women's Regular Tops (MFB0011...</td>\n",
       "      <td>women's clothing</td>\n",
       "      <td>Western Wear</td>\n",
       "      <td>4.0</td>\n",
       "      <td>3.0</td>\n",
       "      <td>430.0</td>\n",
       "      <td>2399.0</td>\n",
       "    </tr>\n",
       "  </tbody>\n",
       "</table>\n",
       "</div>"
      ],
      "text/plain": [
       "                                                     name  \\\n",
       "19019   TheGiftKart Back Cover Soft Case for Samsung G...   \n",
       "215953  Wolven Handcrafted Men's Morgan red & Black Le...   \n",
       "283416  DOJI 14 LED 3 Meter Fairy String Lights,Plug i...   \n",
       "526333  Uniplanet Store Women Uchiha Naruto Round Neck...   \n",
       "575111  Mode By Red Tape Women's Regular Tops (MFB0011...   \n",
       "\n",
       "              main_category      sub_category  ratings  no_of_ratings  \\\n",
       "19019   tv, audio & cameras   All Electronics      4.3           63.0   \n",
       "215953          men's shoes      Formal Shoes      NaN            NaN   \n",
       "283416       home & kitchen        Home Décor      4.4            4.0   \n",
       "526333       men's clothing  T-shirts & Polos      NaN            NaN   \n",
       "575111     women's clothing      Western Wear      4.0            3.0   \n",
       "\n",
       "        discount_price  actual_price  \n",
       "19019            265.0         999.0  \n",
       "215953          1999.0        4999.0  \n",
       "283416           299.0         399.0  \n",
       "526333           275.0         899.0  \n",
       "575111           430.0        2399.0  "
      ]
     },
     "execution_count": 132,
     "metadata": {},
     "output_type": "execute_result"
    }
   ],
   "source": [
    "df.sample(5)"
   ]
  },
  {
   "cell_type": "code",
   "execution_count": 171,
   "metadata": {},
   "outputs": [
    {
     "name": "stderr",
     "output_type": "stream",
     "text": [
      "C:\\Users\\Prasa\\AppData\\Local\\Temp\\ipykernel_16952\\3755707925.py:1: FutureWarning: The default value of numeric_only in DataFrameGroupBy.mean is deprecated. In a future version, numeric_only will default to False. Either specify numeric_only or select only columns which should be valid for the function.\n",
      "  all_products = df[df['no_of_ratings'] > 500].groupby('name').mean()\n"
     ]
    },
    {
     "data": {
      "text/plain": [
       "name\n",
       "Sennheiser E609 Instrument Microphone-Silver Super Cardioid handles high SPL designed for Guitar, Sound Reinforcement, Stu...    4.9\n",
       "EPISKEY® Scalp Massager Shampoo Brush, Eco-friendly Wheat Straw body with Soft Silicon Bristles, Hair Scalp Scrubber, Scal...    4.8\n",
       "Shnuggle Baby Bath with Plug & Foam Backrest- White & Pink                                                                       4.8\n",
       "Hawk: The Church Series: 1                                                                                                       4.8\n",
       "crocs Unisex-Child Crocband Mickey Fnlb Lights K Clogs                                                                           4.8\n",
       "                                                                                                                                ... \n",
       "BEONZA Men Latest Flip Flop Slides Slippers                                                                                      2.7\n",
       "KANTA Hot Thread Kitchen Runner Floor Mat & Runner With Runner Size ( 120X40 Cm ) Lxw Centimetres And Bathmat Size ( 60X40...    2.7\n",
       "Tire Valve Stem Caps for Car, 12PCS Noctilucous Tire Air Caps Cover, Illuminated Auto Wheel Valve Stem Cap,Newly Upgraded ...    2.6\n",
       "Trixie Premium Catnip, 20 g                                                                                                      2.6\n",
       "Men's Mesh Lace-Ups Running/Walking/Gym/Sports Fashion Shoes                                                                     2.6\n",
       "Name: ratings, Length: 11182, dtype: float64"
      ]
     },
     "execution_count": 171,
     "metadata": {},
     "output_type": "execute_result"
    }
   ],
   "source": [
    "all_products = df[df['no_of_ratings'] > 500].groupby('name').mean()\n",
    "all_products['ratings'].sort_values(ascending=False)"
   ]
  },
  {
   "cell_type": "code",
   "execution_count": 172,
   "metadata": {},
   "outputs": [
    {
     "data": {
      "text/plain": [
       "name\n",
       "Sennheiser E609 Instrument Microphone-Silver Super Cardioid handles high SPL designed for Guitar, Sound Reinforcement, Stu...    4.9\n",
       "Name: ratings, dtype: float64"
      ]
     },
     "execution_count": 172,
     "metadata": {},
     "output_type": "execute_result"
    }
   ],
   "source": [
    "top_product = all_products['ratings'].sort_values(ascending=False).head(1)\n",
    "top_product"
   ]
  },
  {
   "cell_type": "code",
   "execution_count": 164,
   "metadata": {},
   "outputs": [
    {
     "data": {
      "image/png": "[encoded data removed]",
      "text/plain": [
       "<Figure size 1000x600 with 1 Axes>"
      ]
     },
     "metadata": {},
     "output_type": "display_data"
    }
   ],
   "source": [
    "import matplotlib.pyplot as plt\n",
    "\n",
    "plt.figure(figsize=(10, 6))\n",
    "all_products['ratings'].hist(bins=20, edgecolor='black')\n",
    "plt.title('Distribution of Average Ratings for Products with More than 100 Ratings')\n",
    "plt.xlabel('Average Rating')\n",
    "plt.ylabel('Number of Products')\n",
    "plt.show()\n"
   ]
  },
  {
   "cell_type": "markdown",
   "metadata": {},
   "source": [
    "#### Why? May be many of guitarist buy products online and product provided is better quality with cost effectivness"
   ]
  },
  {
   "cell_type": "code",
   "execution_count": null,
   "metadata": {},
   "outputs": [],
   "source": []
  },
  {
   "cell_type": "code",
   "execution_count": null,
   "metadata": {},
   "outputs": [],
   "source": []
  },
  {
   "cell_type": "markdown",
   "metadata": {},
   "source": [
    "### Graphs"
   ]
  },
  {
   "cell_type": "markdown",
   "metadata": {},
   "source": [
    "#### 1. Bar Chart of Average Ratings by Category"
   ]
  },
  {
   "cell_type": "code",
   "execution_count": 174,
   "metadata": {},
   "outputs": [
    {
     "data": {
      "image/png": "[encoded data removed]",
      "text/plain": [
       "<Figure size 1200x700 with 1 Axes>"
      ]
     },
     "metadata": {},
     "output_type": "display_data"
    }
   ],
   "source": [
    "average_ratings = df.groupby('main_category')['ratings'].mean().sort_values()\n",
    "\n",
    "plt.figure(figsize=(12, 7))\n",
    "average_ratings.plot(kind='barh', color='skyblue')\n",
    "plt.title('Average Ratings by Product Category')\n",
    "plt.xlabel('Average Rating')\n",
    "plt.ylabel('Category')\n",
    "plt.grid(True)\n",
    "plt.show()\n"
   ]
  },
  {
   "cell_type": "markdown",
   "metadata": {},
   "source": [
    "#### 2. Box Plot of Ratings by Category"
   ]
  },
  {
   "cell_type": "code",
   "execution_count": 175,
   "metadata": {},
   "outputs": [
    {
     "data": {
      "image/png": "[encoded data removed]",
      "text/plain": [
       "<Figure size 1200x800 with 1 Axes>"
      ]
     },
     "metadata": {},
     "output_type": "display_data"
    }
   ],
   "source": [
    "import seaborn as sns\n",
    "\n",
    "plt.figure(figsize=(12, 8))\n",
    "sns.boxplot(x='ratings', y='main_category', data=df, palette=\"light:#5A9\")\n",
    "plt.title('Ratings Distribution by Category')\n",
    "plt.xlabel('Ratings')\n",
    "plt.ylabel('Category')\n",
    "plt.show()\n"
   ]
  },
  {
   "cell_type": "code",
   "execution_count": null,
   "metadata": {},
   "outputs": [],
   "source": []
  }
 ],
 "metadata": {
  "language_info": {
   "name": "python"
  }
 },
 "nbformat": 4,
 "nbformat_minor": 2
}
